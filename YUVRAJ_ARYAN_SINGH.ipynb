{
 "cells": [
  {
   "cell_type": "code",
   "execution_count": 1,
   "id": "99313888",
   "metadata": {},
   "outputs": [],
   "source": [
    "import nltk\n",
    "import pandas as pd\n",
    "import string\n",
    "from nltk.corpus import stopwords\n",
    "from nltk.tokenize import word_tokenize\n",
    "from nltk.stem import WordNetLemmatizer\n",
    "\n",
    "data = pd.read_csv(\"stock_data.csv\")\n",
    "def clean_text(text):\n",
    "    text = text.lower() #change all words to lowercase \n",
    "    text = text.translate(str.maketrans('', '', string.punctuation)) #remove punctuation\n",
    "    tokens = word_tokenize(text) \n",
    "    stop_words = set(stopwords.words('english')) #get common words that are unlikely to lead to a change in sentiment\n",
    "    words = [word for word in tokens if word not in stop_words] \n",
    "    return ' '.join(words)\n",
    "\n",
    "data['Clean_Text'] = data['Text'].apply(clean_text)\n",
    "\n"
   ]
  },
  {
   "cell_type": "code",
   "execution_count": 2,
   "id": "67797557",
   "metadata": {},
   "outputs": [],
   "source": [
    "from sklearn.model_selection import train_test_split\n",
    "from sklearn.feature_extraction.text import TfidfVectorizer\n",
    "from sklearn.naive_bayes import MultinomialNB\n",
    "from sklearn.metrics import accuracy_score\n",
    "\n",
    "X = data['Clean_Text']\n",
    "y = data['Sentiment']\n",
    "X_train, X_test, y_train, y_test = train_test_split(X, y, test_size=0.2, random_state=42)\n",
    "\n",
    "vectoriser = TfidfVectorizer() #initialises a vectoriser \n",
    "X_train_vect = vectoriser.fit_transform(X_train)\n",
    "X_test_vect = vectoriser.transform(X_test)\n",
    "\n"
   ]
  },
  {
   "cell_type": "code",
   "execution_count": 3,
   "id": "51a12766",
   "metadata": {},
   "outputs": [
    {
     "name": "stdout",
     "output_type": "stream",
     "text": [
      "Accuracy: 0.731665228645384\n"
     ]
    }
   ],
   "source": [
    "nb_classifier = MultinomialNB() #uses a naive-bayes classifer\n",
    "nb_classifier.fit(X_train_vect, y_train)\n",
    "predictions = nb_classifier.predict(X_test_vect)\n",
    "\n",
    "accuracy = accuracy_score(y_test, predictions)\n",
    "print(\"Accuracy: \" + str(accuracy))"
   ]
  }
 ],
 "metadata": {
  "kernelspec": {
   "display_name": "Python 3 (ipykernel)",
   "language": "python",
   "name": "python3"
  },
  "language_info": {
   "codemirror_mode": {
    "name": "ipython",
    "version": 3
   },
   "file_extension": ".py",
   "mimetype": "text/x-python",
   "name": "python",
   "nbconvert_exporter": "python",
   "pygments_lexer": "ipython3",
   "version": "3.10.9"
  }
 },
 "nbformat": 4,
 "nbformat_minor": 5
}
